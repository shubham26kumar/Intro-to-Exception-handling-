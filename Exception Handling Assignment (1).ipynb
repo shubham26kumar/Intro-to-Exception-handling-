{
 "cells": [
  {
   "cell_type": "markdown",
   "id": "464ec12f-f0aa-4601-b4a5-6d6c0eb43b0e",
   "metadata": {},
   "source": [
    "Q.1.What is an Exception in python?Write the difference between Exceptions and Syntax errors."
   ]
  },
  {
   "cell_type": "markdown",
   "id": "db2b22bf-828c-4638-bcee-547249648c54",
   "metadata": {},
   "source": [
    "Ans :- An exception is an error which happens at the time of execution of a program. However, while running a program, Python generates an exception that should be handled to avoid your program to crash. In Python language, exceptions trigger automatically on errors, or they can be triggered and intercepted by your code.\n",
    "\n",
    "The exception indicates that, although the event can occur, this type of event happens infrequently. When the method is not able to handle the exception, it is thrown to its caller function. Eventually, when an exception is thrown out of the main function, the program is terminated abruptly.\n",
    "Common Examples of Exception:\n",
    "Division by Zero\n",
    "Accessing a file which does not exist.\n",
    "Addition of two incompatible types\n",
    "Trying to access a nonexistent index of a sequence\n",
    "Removing the table from the disconnected database server.\n",
    "ATM withdrawal of more than the available amount\n",
    "\n",
    "A syntax error occurs when the structure of a program does not conform to the rules of the programming language. Syntax errors are usually detected by the compiler or interpreter when the program is being compiled or executed, and they prevent the program from running. Syntax errors are usually caused by mistakes in the source code, such as typos, omissions, or incorrect use of syntax.\n",
    "\n",
    "An exception is an abnormal event that occurs during the execution of a program. Exceptions are usually caused by runtime errors, such as dividing by zero, trying to access an element in an array with an out-of-bounds index, or trying to access a file that does not exist. Exceptions are not syntax errors, but they can still prevent the program from running if they are not handled properly.\n",
    "\n",
    "In many programming languages, exceptions are handled using try-catch blocks. When an exception is thrown, the program will try to execute the code in the catch block, which can handle the exception and allow the program to continue running. If the exception is not caught, the program will terminate.\n",
    "\n",
    "To summarize, a syntax error is a mistake in the structure of the program that prevents it from running, while an exception is an abnormal event that occurs during the execution of the program and can be handled to allow the program to continue running."
   ]
  },
  {
   "cell_type": "markdown",
   "id": "d9ae9ee7-a787-4875-af25-6aa61fd6e760",
   "metadata": {},
   "source": [
    "Q.2.What happens when an Exception is not handled? Explain with an Example."
   ]
  },
  {
   "cell_type": "markdown",
   "id": "fabed483-947f-400b-ac98-40cca9939f36",
   "metadata": {},
   "source": [
    "Ans:- Exceptions are errors that are detected during execution. Whenever there is an error in a program, exceptions are raised.\n",
    "\n",
    "If these exceptions are not handled, it drives the program into a halt state. Exception handling in python is required to prevent the program from terminating abruptly.When an exception is raised, no further statements in the current block of code are executed. Unless the exception is handled (described below), the interpreter will return directly to the interactive read-eval-print loop, or terminate entirely if Python was started with a file argument.When an exception occurred, if we don’t handle it, the program terminates abruptly and the code past the line that caused the exception will not get executed. "
   ]
  },
  {
   "cell_type": "code",
   "execution_count": 2,
   "id": "5ceae515-bec5-4768-b55f-63703a1c0762",
   "metadata": {},
   "outputs": [
    {
     "ename": "ZeroDivisionError",
     "evalue": "division by zero",
     "output_type": "error",
     "traceback": [
      "\u001b[0;31m---------------------------------------------------------------------------\u001b[0m",
      "\u001b[0;31mZeroDivisionError\u001b[0m                         Traceback (most recent call last)",
      "Cell \u001b[0;32mIn[2], line 3\u001b[0m\n\u001b[1;32m      1\u001b[0m a \u001b[38;5;241m=\u001b[39m \u001b[38;5;241m10\u001b[39m\n\u001b[1;32m      2\u001b[0m b \u001b[38;5;241m=\u001b[39m \u001b[38;5;241m0\u001b[39m\n\u001b[0;32m----> 3\u001b[0m c \u001b[38;5;241m=\u001b[39m \u001b[43ma\u001b[49m\u001b[38;5;241;43m/\u001b[39;49m\u001b[43mb\u001b[49m\n\u001b[1;32m      4\u001b[0m \u001b[38;5;28mprint\u001b[39m(c)\n",
      "\u001b[0;31mZeroDivisionError\u001b[0m: division by zero"
     ]
    }
   ],
   "source": [
    "a = 10\n",
    "b = 0\n",
    "c = a/b\n",
    "print(c)"
   ]
  },
  {
   "cell_type": "markdown",
   "id": "0354b15b-51aa-482d-a29d-15423aea682f",
   "metadata": {},
   "source": [
    "Above is an example of what we call an unhandled exception. On line 3, the code went into a halt state as it's an unhandled exception."
   ]
  },
  {
   "cell_type": "code",
   "execution_count": 2,
   "id": "b444b961-8262-4431-8273-eb3d1b78ce47",
   "metadata": {},
   "outputs": [
    {
     "name": "stdout",
     "output_type": "stream",
     "text": [
      "This will give ZeroDevisionError  division by zero\n"
     ]
    }
   ],
   "source": [
    "#We can handle this exception as :-\n",
    "try:\n",
    "    a = 10/0\n",
    "except ZeroDivisionError as e :\n",
    "    print(\"This will give ZeroDevisionError \", e)"
   ]
  },
  {
   "cell_type": "markdown",
   "id": "33dff000-27ec-49d6-ab3e-0cec0d158e2c",
   "metadata": {},
   "source": [
    "Q.3.Which python statements are used to catch and handle exceptions?Explain with an example."
   ]
  },
  {
   "cell_type": "markdown",
   "id": "d1c0f04d-da04-487d-9464-baad954156c6",
   "metadata": {},
   "source": [
    "Ans:-The try and except block in Python is used to catch and handle exceptions. Python executes code following the try statement as a “normal” part of the program. The code that follows the except statement is the program's response to any exceptions in the preceding try clause.Statements that can raise exceptions are kept inside the try clause and the statements that handle the exception are written inside except clause.\n",
    "The try statement works as follows.\n",
    "\n",
    "First, the try clause (the statement(s) between the try and except keywords) is executed.\n",
    "\n",
    "If no exception occurs, the except clause is skipped and execution of the try statement is finished.\n",
    "\n",
    "If an exception occurs during execution of the try clause, the rest of the clause is skipped. Then, if its type matches the exception named after the except keyword, the except clause is executed, and then execution continues after the try/except block.\n",
    "\n",
    "If an exception occurs which does not match the exception named in the except clause, it is passed on to outer try statements; if no handler is found, it is an unhandled exception and execution stops with a message as shown above.\n",
    "\n",
    "A try statement may have more than one except clause, to specify handlers for different exceptions. At most one handler will be executed. Handlers only handle exceptions that occur in the corresponding try clause, not in other handlers of the same try statement.\n",
    "\n",
    "except: this code is only executed if an exception occured in the try block. The except block is required with a try block, even if it contains only the pass statement."
   ]
  },
  {
   "cell_type": "code",
   "execution_count": 3,
   "id": "92f252c0-0742-4488-811f-8b5ef9aff5e5",
   "metadata": {},
   "outputs": [
    {
     "name": "stdout",
     "output_type": "stream",
     "text": [
      "The index and element from the array is 0 Python\n",
      "The index and element from the array is 1 Exceptions\n",
      "The index and element from the array is 2 try and except\n",
      "Index out of range\n"
     ]
    }
   ],
   "source": [
    "# Python code to catch an exception and handle it using try and except code blocks  \n",
    "   \n",
    "a = [\"Python\", \"Exceptions\", \"try and except\"]  \n",
    "try:  \n",
    "    #looping through the elements of the array a, choosing a range that goes beyond the length of the array  \n",
    "     for i in range( 4 ):  \n",
    "        print( \"The index and element from the array is\", i, a[i] )  \n",
    "#if an error occurs in the try block, then except block will be executed by the Python interpreter       \n",
    "except:  \n",
    "    print (\"Index out of range\")  "
   ]
  },
  {
   "cell_type": "markdown",
   "id": "af7acc6b-4bfc-47d1-8d04-39c0c8f9ecc2",
   "metadata": {},
   "source": [
    "Q.4.Explain with an example :-\n",
    "a.try and else\n",
    "b.finally\n",
    "c.raise"
   ]
  },
  {
   "cell_type": "markdown",
   "id": "85d3a7e4-38dd-411d-891c-15c824ca4bda",
   "metadata": {},
   "source": [
    "Ans:- a. try and else :-\n",
    "The try block test a block of code for errors. The except block handle the error. The else block execute code when there is no error."
   ]
  },
  {
   "cell_type": "code",
   "execution_count": 4,
   "id": "62c30079-fe77-4408-9e22-497e4b12e0b6",
   "metadata": {},
   "outputs": [
    {
     "name": "stdout",
     "output_type": "stream",
     "text": [
      "Hello\n",
      "Nothing went wrong\n"
     ]
    }
   ],
   "source": [
    "try:\n",
    "  print(\"Hello\")\n",
    "except:\n",
    "  print(\"Something went wrong\")\n",
    "else:\n",
    "  print(\"Nothing went wrong\")"
   ]
  },
  {
   "cell_type": "markdown",
   "id": "c35b5e71-f903-4922-807f-5c6061a27132",
   "metadata": {},
   "source": [
    "b.finally:- The finally keyword is used in try...except blocks. It defines a block of code to run when the try...except...else block is final.\n",
    "\n",
    "The finally block will be executed no matter if the try block raises an error or not."
   ]
  },
  {
   "cell_type": "code",
   "execution_count": 5,
   "id": "a95f5f96-4072-444d-a5ac-2d0e660a8f64",
   "metadata": {},
   "outputs": [
    {
     "name": "stdout",
     "output_type": "stream",
     "text": [
      "finally will execute itself in any situation \n"
     ]
    },
    {
     "ename": "FileNotFoundError",
     "evalue": "[Errno 2] No such file or directory: 'test4.txt'",
     "output_type": "error",
     "traceback": [
      "\u001b[0;31m---------------------------------------------------------------------------\u001b[0m",
      "\u001b[0;31mFileNotFoundError\u001b[0m                         Traceback (most recent call last)",
      "Cell \u001b[0;32mIn[5], line 2\u001b[0m\n\u001b[1;32m      1\u001b[0m \u001b[38;5;28;01mtry\u001b[39;00m :\n\u001b[0;32m----> 2\u001b[0m     f \u001b[38;5;241m=\u001b[39m \u001b[38;5;28;43mopen\u001b[39;49m\u001b[43m(\u001b[49m\u001b[38;5;124;43m\"\u001b[39;49m\u001b[38;5;124;43mtest4.txt\u001b[39;49m\u001b[38;5;124;43m\"\u001b[39;49m\u001b[43m,\u001b[49m\u001b[43m \u001b[49m\u001b[38;5;124;43m\"\u001b[39;49m\u001b[38;5;124;43mr\u001b[39;49m\u001b[38;5;124;43m\"\u001b[39;49m\u001b[43m)\u001b[49m\n\u001b[1;32m      3\u001b[0m     f\u001b[38;5;241m.\u001b[39mwrite(\u001b[38;5;124m\"\u001b[39m\u001b[38;5;124m this is shubham \u001b[39m\u001b[38;5;124m\"\u001b[39m)\n\u001b[1;32m      5\u001b[0m \u001b[38;5;28;01mfinally\u001b[39;00m :\n",
      "File \u001b[0;32m/opt/conda/lib/python3.10/site-packages/IPython/core/interactiveshell.py:282\u001b[0m, in \u001b[0;36m_modified_open\u001b[0;34m(file, *args, **kwargs)\u001b[0m\n\u001b[1;32m    275\u001b[0m \u001b[38;5;28;01mif\u001b[39;00m file \u001b[38;5;129;01min\u001b[39;00m {\u001b[38;5;241m0\u001b[39m, \u001b[38;5;241m1\u001b[39m, \u001b[38;5;241m2\u001b[39m}:\n\u001b[1;32m    276\u001b[0m     \u001b[38;5;28;01mraise\u001b[39;00m \u001b[38;5;167;01mValueError\u001b[39;00m(\n\u001b[1;32m    277\u001b[0m         \u001b[38;5;124mf\u001b[39m\u001b[38;5;124m\"\u001b[39m\u001b[38;5;124mIPython won\u001b[39m\u001b[38;5;124m'\u001b[39m\u001b[38;5;124mt let you open fd=\u001b[39m\u001b[38;5;132;01m{\u001b[39;00mfile\u001b[38;5;132;01m}\u001b[39;00m\u001b[38;5;124m by default \u001b[39m\u001b[38;5;124m\"\u001b[39m\n\u001b[1;32m    278\u001b[0m         \u001b[38;5;124m\"\u001b[39m\u001b[38;5;124mas it is likely to crash IPython. If you know what you are doing, \u001b[39m\u001b[38;5;124m\"\u001b[39m\n\u001b[1;32m    279\u001b[0m         \u001b[38;5;124m\"\u001b[39m\u001b[38;5;124myou can use builtins\u001b[39m\u001b[38;5;124m'\u001b[39m\u001b[38;5;124m open.\u001b[39m\u001b[38;5;124m\"\u001b[39m\n\u001b[1;32m    280\u001b[0m     )\n\u001b[0;32m--> 282\u001b[0m \u001b[38;5;28;01mreturn\u001b[39;00m \u001b[43mio_open\u001b[49m\u001b[43m(\u001b[49m\u001b[43mfile\u001b[49m\u001b[43m,\u001b[49m\u001b[43m \u001b[49m\u001b[38;5;241;43m*\u001b[39;49m\u001b[43margs\u001b[49m\u001b[43m,\u001b[49m\u001b[43m \u001b[49m\u001b[38;5;241;43m*\u001b[39;49m\u001b[38;5;241;43m*\u001b[39;49m\u001b[43mkwargs\u001b[49m\u001b[43m)\u001b[49m\n",
      "\u001b[0;31mFileNotFoundError\u001b[0m: [Errno 2] No such file or directory: 'test4.txt'"
     ]
    }
   ],
   "source": [
    "try :\n",
    "    f = open(\"test4.txt\", \"r\")\n",
    "    f.write(\" this is shubham \")\n",
    "    \n",
    "finally :\n",
    "    print(\"finally will execute itself in any situation \")\n",
    "    "
   ]
  },
  {
   "cell_type": "markdown",
   "id": "4d791172-1743-4752-ab84-e01c46cb33ed",
   "metadata": {},
   "source": [
    "c.raise:-The raise keyword is used to raise an exception. You can define what kind of error to raise, and the text to print to the user."
   ]
  },
  {
   "cell_type": "code",
   "execution_count": 7,
   "id": "e306b104-0324-4f5b-94ea-bf3adf37d108",
   "metadata": {},
   "outputs": [
    {
     "ename": "Exception",
     "evalue": "Sorry, no numbers below zero",
     "output_type": "error",
     "traceback": [
      "\u001b[0;31m---------------------------------------------------------------------------\u001b[0m",
      "\u001b[0;31mException\u001b[0m                                 Traceback (most recent call last)",
      "Cell \u001b[0;32mIn[7], line 4\u001b[0m\n\u001b[1;32m      1\u001b[0m x \u001b[38;5;241m=\u001b[39m \u001b[38;5;241m-\u001b[39m\u001b[38;5;241m1\u001b[39m\n\u001b[1;32m      3\u001b[0m \u001b[38;5;28;01mif\u001b[39;00m x \u001b[38;5;241m<\u001b[39m \u001b[38;5;241m0\u001b[39m:\n\u001b[0;32m----> 4\u001b[0m   \u001b[38;5;28;01mraise\u001b[39;00m \u001b[38;5;167;01mException\u001b[39;00m(\u001b[38;5;124m\"\u001b[39m\u001b[38;5;124mSorry, no numbers below zero\u001b[39m\u001b[38;5;124m\"\u001b[39m)\n",
      "\u001b[0;31mException\u001b[0m: Sorry, no numbers below zero"
     ]
    }
   ],
   "source": [
    "x = -1\n",
    "\n",
    "if x < 0:\n",
    "  raise Exception(\"Sorry, no numbers below zero\")\n"
   ]
  },
  {
   "cell_type": "markdown",
   "id": "4467ed90-fe4a-419e-9606-0f3ff05f68fe",
   "metadata": {},
   "source": [
    "Q.5.What are Custom Exceptions in python?Why do we need custom Exceptions?Explain with an Example."
   ]
  },
  {
   "cell_type": "markdown",
   "id": "baf9526f-86b0-424b-80a4-a01c9b1a14cf",
   "metadata": {},
   "source": [
    "Ans:\"- Python has many built-in exceptions with it, apart from these built-in list python has the capability to provide custom exceptions to the users. These custom exceptions are named as user-defined exceptions. Here the user-defined exceptions can be built defined by using a class declared for it. These customer exceptions are declared specifically to satisfy user necessities. All the user-defined exceptions will be derived from the user class.\n",
    "Syntax\n",
    "class User_Exception1( Exception )  ....class User_Exception2( Exception )  .... . . . . . .  try:Executed on top of suspicious code    except User_Exception1:   This piece will be executed when a user_exception 1 is triggeredexcept User_Exception2:   This piece will be executed when a user_exception 1 is triggered else:   This block is executed when no orther exception is found\n",
    "\n",
    "A user-defined exception handling process needs to have a user-defined class representing the exception to be created. This user-defined exception class needs to be inheriting the exception class either directly or indirectly. So based on the inherited class this formulates into a user based exception.\n",
    "\n",
    "\n",
    "While writing real-life programs for various applications, we must put constraints on the variables of use. For instance, in Date-of-birth, a month cannot be greater than 12 nor be negative, or the social media username must not contain a space character. To handle these sensitive values and to force them to be of a specific format, we use user-defined exceptions in Python. These user-defined exceptions can be derived from the superclass of Exception(Multiple Inheritance), used as a normal Python class, or implemented using Standard Exceptions such as Runtime Exception.Sometimes we must enforce constraints on the values that specific program variables can take or save the program from running into an undesired state. In such situations, Python allows programmers to create User-defined Exceptions. To create a User-defined Exception, we need to create a class directly or indirectly derived from the built-in Exception class.\n",
    "\n",
    "\n",
    "CustomException -----> Exception\n"
   ]
  },
  {
   "cell_type": "code",
   "execution_count": 9,
   "id": "02d7f60a-67a8-4528-9c14-1edc0a23c9ad",
   "metadata": {},
   "outputs": [
    {
     "name": "stdin",
     "output_type": "stream",
     "text": [
      "Enter a number between positive integer:  -32\n"
     ]
    },
    {
     "name": "stdout",
     "output_type": "stream",
     "text": [
      "You provided -32. Please provide positive integer values only\n"
     ]
    }
   ],
   "source": [
    "class NegativeError(Exception):\n",
    "   def __init__(self, data):\n",
    "       self.data = data\n",
    "try:\n",
    "   x = int(input(\"Enter a number between positive integer: \"))\n",
    "   if x < 0:\n",
    "       raise NegativeError(x)\n",
    "except NegativeError as e:\n",
    "   print(\"You provided {}. Please provide positive integer values only\".format(e))\n"
   ]
  },
  {
   "cell_type": "markdown",
   "id": "a4650c81-f028-4710-9883-ab494900a3db",
   "metadata": {},
   "source": [
    "Q.6.Create a custom exception class.use this class to handle an exception."
   ]
  },
  {
   "cell_type": "code",
   "execution_count": 14,
   "id": "4ea47368-5310-4d7b-9987-cc25252a3b9c",
   "metadata": {},
   "outputs": [
    {
     "name": "stdin",
     "output_type": "stream",
     "text": [
      "Enter Age: 65\n"
     ]
    },
    {
     "ename": "TooOldException",
     "evalue": "Your age already crossed marriage age...no chance of getting marriage",
     "output_type": "error",
     "traceback": [
      "\u001b[0;31m---------------------------------------------------------------------------\u001b[0m",
      "\u001b[0;31mTooOldException\u001b[0m                           Traceback (most recent call last)",
      "Cell \u001b[0;32mIn[14], line 9\u001b[0m\n\u001b[1;32m      7\u001b[0m age\u001b[38;5;241m=\u001b[39m\u001b[38;5;28mint\u001b[39m(\u001b[38;5;28minput\u001b[39m(\u001b[38;5;124m\"\u001b[39m\u001b[38;5;124mEnter Age:\u001b[39m\u001b[38;5;124m\"\u001b[39m))\n\u001b[1;32m      8\u001b[0m \u001b[38;5;28;01mif\u001b[39;00m age\u001b[38;5;241m>\u001b[39m\u001b[38;5;241m60\u001b[39m:\n\u001b[0;32m----> 9\u001b[0m    \u001b[38;5;28;01mraise\u001b[39;00m TooOldException(\u001b[38;5;124m\"\u001b[39m\u001b[38;5;124mYour age already crossed marriage age...no chance of getting marriage\u001b[39m\u001b[38;5;124m\"\u001b[39m)\n\u001b[1;32m     10\u001b[0m \u001b[38;5;28;01melif\u001b[39;00m age\u001b[38;5;241m<\u001b[39m\u001b[38;5;241m18\u001b[39m:\n\u001b[1;32m     11\u001b[0m    \u001b[38;5;28;01mraise\u001b[39;00m TooYoungException(\u001b[38;5;124m\"\u001b[39m\u001b[38;5;124mPlz wait some more time you will get best match soon!!!\u001b[39m\u001b[38;5;124m\"\u001b[39m)\n",
      "\u001b[0;31mTooOldException\u001b[0m: Your age already crossed marriage age...no chance of getting marriage"
     ]
    }
   ],
   "source": [
    "class TooYoungException(Exception):\n",
    "   def __init__(self, arg):\n",
    "       self.msg=arg\n",
    "class TooOldException(Exception):\n",
    "   def __init__(self, arg):\n",
    "       self.msg=arg\n",
    "age=int(input(\"Enter Age:\"))\n",
    "if age>60:\n",
    "   raise TooOldException(\"Your age already crossed marriage age...no chance of getting marriage\")\n",
    "elif age<18:\n",
    "   raise TooYoungException(\"Plz wait some more time you will get best match soon!!!\")\n",
    "else:\n",
    "   print(\"You will get match details soon by email!!!\")\n"
   ]
  },
  {
   "cell_type": "code",
   "execution_count": null,
   "id": "6eb4a531-e583-4211-9d21-11b4c543982a",
   "metadata": {},
   "outputs": [],
   "source": []
  }
 ],
 "metadata": {
  "kernelspec": {
   "display_name": "Python 3 (ipykernel)",
   "language": "python",
   "name": "python3"
  },
  "language_info": {
   "codemirror_mode": {
    "name": "ipython",
    "version": 3
   },
   "file_extension": ".py",
   "mimetype": "text/x-python",
   "name": "python",
   "nbconvert_exporter": "python",
   "pygments_lexer": "ipython3",
   "version": "3.10.8"
  }
 },
 "nbformat": 4,
 "nbformat_minor": 5
}
